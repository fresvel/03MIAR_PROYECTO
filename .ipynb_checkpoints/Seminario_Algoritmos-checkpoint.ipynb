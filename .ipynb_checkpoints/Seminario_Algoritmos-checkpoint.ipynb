{
 "cells": [
  {
   "cell_type": "markdown",
   "metadata": {
    "id": "hVbXYX-RfPWh"
   },
   "source": [
    "# **Algoritmos de optimización - Seminario**\n",
    "\n",
    "**Nombre y Apellidos:** Velasteguí Izurieta Homero Javier  \n",
    "\n",
    "**Url:** https://github.com/fresvel/03MIAR_PROYECTO/blob/main/Seminario_Algoritmos.ipynb\n",
    "\n",
    "Problema:\n",
    "\n",
    ">3. Combinar cifras y operaciones\n",
    "\n",
    "Descripción del problema:\n",
    "\n",
    "El ejercicio consiste en analizar el siguiente problema y diseñar un algoritmo que lo resuelva.\n",
    "\n",
    "• Disponemos de las 9 cifras del 1 al 9 (excluimos el cero) y de los 4 signos básicos de las\n",
    "operaciones fundamentales: suma(+), resta(-), multiplicación(*) y división(/)\n",
    "\n",
    "• Debemos combinarlos alternativamente sin repetir ninguno de ellos para obtener una\n",
    "cantidad dada. Un ejemplo sería para obtener el 4:\n",
    "4+2-6/3*1 = 4\n",
    "\n",
    "• Debe analizarse el problema para encontrar todos los valores enteros posibles planteando las\n",
    "siguientes cuestiones:\n",
    "\n",
    "## **- ¿Qué valor máximo y mínimo se pueden obtener según las condiciones del problema?**\n",
    "\n",
    "El problema nos pide formar expresiones aritméticas válidas utilizando exactamente cinco dígitos únicos entre 1 y 9, y combinarlos con los cuatro operadores básicos (+, -, *, /), sin repetir ninguno. La estructura de la expresión debe alternar obligatoriamente número y operador, comenzando y terminando con un número. Por tanto, la forma general de las expresiones es:\n",
    "\n",
    "$n₁ op₁ n₂ op₂ n₃ op₃ n₄ op₄ n₅$\n",
    "\n",
    "\n",
    "Donde `nᵢ ∈ {1, ..., 9}`, sin repetirse, y `opⱼ ∈ {+, -, *, /}`, también sin repetirse.\n",
    "\n",
    "Para determinar el **valor máximo** y **valor mínimo** que pueden obtenerse al combinar cinco dígitos únicos del 1 al 9 y los cuatro operadores básicos (`+`, `-`, `*`, `/`) sin repetir ninguno, es más eficiente aplicar un **análisis estratégico** basado en las propiedades de las operaciones aritméticas, previo a explorar todas las combinaciones posibles de manera exhaustiva.\n",
    "\n",
    "---\n",
    "### 🔺 Valor máximo\n",
    "\n",
    "La forma de obtener el valor **más alto posible** consiste en aplicar los **operadores que amplifican el resultado** (`*` y `+`) a los **números más grandes**, mientras que los operadores que disminuyen el resultado (`-` y `/`) se aplican a los **números más pequeños**. Siguiendo este principio, la expresión:\n",
    "\n",
    "$9 * 8 + 7 - 2 / 1=77$\n",
    "\n",
    "\n",
    "Maximiza el impacto positivo de la multiplicación y suma, y minimiza el impacto negativo de la resta y división. Evaluando con precedencia estándar, por lo tanto, el **valor máximo entero alcanzable** bajo las condiciones del problema es 77.\n",
    "\n",
    "\n",
    "---\n",
    "\n",
    "### 🔻 Valor mínimo\n",
    "\n",
    "Del mismo modo, para obtener el **valor más bajo posible**, se aplica la lógica inversa: se utilizan los **números más grandes** con los operadores que más reducen el valor (`-` y `*`) y los **números más pequeños** con `+` y `/`, que tienen menor impacto si se combinan con cifras bajas. Esto considerando el inicio de la expresión con el operador `-`.\n",
    "\n",
    "Siguiendo esta estrategia, una posible expresión mínima es:\n",
    "\n",
    "$-9 * 8 + 2 / 1=-70$\n",
    "\n",
    "\n",
    "Por lo tanto, el **valor mínimo entero alcanzable** bajo las condiciones del problema es -70\n",
    "\n",
    "---\n",
    "El análisis estructurado demuestra que, bajo las condiciones establecidas (cinco dígitos únicos entre 1 y 9, cuatro operadores distintos, sin repeticiones y evaluando con precedencia estándar), los valores extremos enteros que se pueden obtener son:\n",
    "\n",
    "- Máximo: `77` (ejemplo: `9 * 8 + 7 - 2 / 1`)\n",
    "- Mínimo: `-70` (ejemplo: `-9 * 8 + 2 / 1`)\n",
    "\n",
    "Esto proporciona una base sólida para investigar cuántos valores enteros intermedios pueden obtenerse entre ambos extremos.\n",
    "\n",
    "Desde una primera perspectiva se estimaría buscar si los operadores pueden generar los valores enteros entre -70 y 70 como parte final para resolver el ejercicio. Sin embargo, para analizar el problema desde la perspectiva de la optimización de algoritmos, se podría empezar a estudiar el problema por fuerza bruta, buscando el mínimo y máximo valor realizando todas las posibles combinaciones de operaciones. \n",
    "\n",
    "## **- ¿Es posible encontrar todos los valores enteros posibles entre dicho mínimo y máximo ?**\n",
    "\n",
    "Esta opción se analizará en un inicio con el algoritmo de fuerza bruta, una vez finalizado el análisis de la pregunta 1. De manera posterior se buscará optimizar el algoritmo para encontrar una respuesta de una manera más rápida.\n",
    "\n",
    "\n",
    "• Nota: Es posible usar la función de python “eval” para evaluar una expresión:\n",
    "\n",
    "(*) La respuesta es obligatoria\n"
   ]
  },
  {
   "cell_type": "code",
   "execution_count": 5,
   "metadata": {
    "id": "AiskKkzZfy4e"
   },
   "outputs": [
    {
     "name": "stdout",
     "output_type": "stream",
     "text": [
      "4.0\n"
     ]
    }
   ],
   "source": [
    "expresion=\"4+2-6/3*1\"\n",
    "print(eval(expresion))"
   ]
  },
  {
   "cell_type": "markdown",
   "metadata": {
    "id": "3_-exlrTgLd-"
   },
   "source": [
    "### **(*)¿Cuantas posibilidades hay sin tener en cuenta las restricciones?**\n",
    "\n",
    "A partir del análisis literal del enunciado y del ejemplo proporcionado, se toman como restricciones o condiciones del problema las siguientes:\n",
    "\n",
    "    1 No se permite repetir ningún operador ni número\n",
    "    2 Los números provienen del conjunto {1, 2, ..., 9}, se excluye el 0\n",
    "    3 La estructura de la expresión debe ser alternante entre dígito y operador\n",
    "    4 El resultado debe ser un número entero \n",
    "\n",
    "Bajo estas condiciones se analiza la situación del problema, considerando la eliminación de las restricciones, primero para el caso en el que no se considera ninguna restricción y de manera posterior para una eliminación parcial de las mismas.\n",
    "\n",
    "Al eliminar todas las condiciones y restricciones del ejercicio se podría repetir números y operadores de manera infinita, por lo que las posibles combinaciones son infinitas.\n",
    "\n",
    "Lo que interesa en el ejercicio es evaluar todas las posibles combinaciones para responder las preguntas planteadas. En tal virtud la restricción de que el resultado deba ser un número entero no afecta al cálculo de las posibles combinaciones que se requieren evaluar, por lo que se puede eliminar sin ningún problema. EN tal virtud queda la posibilidad de eliminar las restricciones `1,2,3`\n",
    "\n",
    "Si se excluye la condición de  `1`, aún manteniendo las adicionales, nuevamente se puede repetir los dígitos y las operaciones de manera indefinida, teniendo la forma `n1 op1 n2 op2 ... opi ni+1 ...` situación que lleva nuevamente a un número infinito de posibles combinaciones. En consecuencia queda la posibilidad de excluir las condiciones `2 y 3`. \n",
    "\n",
    "Analizando la condición 2, se puede tener dos posibilidades. Si se considera que el conjunto de números pueden ser elementos de los naturales, enteros o reales, el número posible de combinaciones será infinito. Por lo tanto se puede considerar que se retira la restricción en la que se excluye el número `0`.\n",
    "\n",
    "Finalmente, si se excluye la restrición 3, que determina la estructura de las operaciones, se tendría un número finito de combinaciones, diferente al ejercicio original. En este caso se toma en cuenta el siguiente planteamiento:\n",
    "\n",
    "    - Se tiene 10 símbolos-dígitos: {0, 1, 2, 3, 4, 5, 6, 7, 8, 9} y 4 símbolos-operadores: {+, -, *, /}\n",
    "    - Se desea calcular cuántas combinaciones posibles se pueden formar sin repetir ningún símbolo.\n",
    "    - Se selecciona una longitud k de la expresión, con 1 ≤ k ≤ 14\n",
    "    - No se considera más restricciones: ni estructura, ni alternancia, ni sintaxis.\n",
    "    \n",
    "Simplemente se busca contar cuántas secuencias distintas (permutaciones) se pueden formar con los símbolos {0–9, +, -, *, /} sin repetir ninguno, para cualquier longitud desde 1 hasta 14.\n",
    "\n",
    "\n",
    "**Cálculo**\n",
    "\n",
    "El número total de combinaciones posibles es la suma de permutaciones de r elementos tomados de 14, para r = 1 hasta 14:\n",
    "\n",
    "\n",
    "$\n",
    "Total = \\sum_{r=1}^{14} P(14, r) = \\sum_{r=1}^{14} \\frac{14!}{(14 - r)!}\n",
    "$\n",
    "\n",
    "Donde P(14,r)P(14,r) es el número de permutaciones sin repetición de r símbolos tomados de un conjunto de 14."
   ]
  },
  {
   "cell_type": "code",
   "execution_count": 6,
   "metadata": {},
   "outputs": [
    {
     "name": "stdout",
     "output_type": "stream",
     "text": [
      "Total de permutaciones sin repetición de 1 a 14 elementos: 236975164804\n"
     ]
    }
   ],
   "source": [
    "import math\n",
    "\n",
    "def total_permutations(n=14):\n",
    "    total = 0\n",
    "    for r in range(1, n + 1):\n",
    "        total += math.factorial(n) // math.factorial(n - r)\n",
    "    return total\n",
    "\n",
    "# Ejecutar la función\n",
    "resultado = total_permutations()\n",
    "print(f\"Total de permutaciones sin repetición de 1 a 14 elementos: {resultado}\")\n"
   ]
  },
  {
   "cell_type": "markdown",
   "metadata": {},
   "source": [
    "### **¿Cuantas posibilidades hay teniendo en cuenta todas las restricciones?**"
   ]
  },
  {
   "cell_type": "markdown",
   "metadata": {
    "id": "WfCUqJyKhPcw"
   },
   "source": [
    "Para resolver el problema de una manera completa se considera las siguientes condiciones:\n",
    "\n",
    "- Dígitos disponibles: \\( \\{1, 2, 3, 4, 5, 6, 7, 8, 9\\} \\) (9 dígitos)  \n",
    "- Operadores disponibles: \\( \\{+, -, *, /\\} \\) (4 operadores)  \n",
    "- No se puede repetir ningún símbolo (ni dígito ni operador)  \n",
    "- La expresión debe ser alternante (dígito - operador - dígito - operador ...)  \n",
    "- La expresión puede comenzar con un dígito o con un operador unario (solo \\( + \\) o \\( - \\))  \n",
    "- La longitud de la expresión \\( k \\) varía según el caso de que inicie con un dígito o un operador.\n",
    "\n",
    "| Tipo de inicio          | Longitud \\( k \\) | Dígitos \\( d \\) | Operadores \\( o \\) |\n",
    "|------------------------|------------------|-----------------|--------------------|\n",
    "| Empieza con dígito      | \\( 2o + 1 \\)     | \\( o + 1 \\)     | \\( o \\)            |\n",
    "| Empieza con operador    | \\( 2o \\)         | \\( o \\)         | \\( o \\)            |\n",
    "\n",
    "donde \\( o \\) es el número de operadores usados, con \\( o $\\leq$ 4 \\).\n",
    "\n",
    "El resultado final del número de combinaciones posibles sería la suma de las combinaciones para cada caso\n",
    "\n",
    "\n",
    "---\n",
    "\n",
    "\n",
    "### Caso 1: Empieza con dígito\n",
    "\n",
    "Para cada \\( o = 0, 1, 2, 3, 4 \\):\n",
    "\n",
    "- Cantidad de dígitos usados: \\( d = o + 1 \\)  \n",
    "- Cantidad de operadores usados: \\( o \\)  \n",
    "- Selección de dígitos (sin repetir): $\\binom{9}{d}$\n",
    "- Permutación de dígitos elegidos: $d!$\n",
    "- Selección de operadores (sin repetir): $\\binom{4}{o}$\n",
    "- Permutación de operadores elegidos: $o!$\n",
    "- Total de expresiones para \\( o \\) operadores:\n",
    "\n",
    "$\n",
    "C_o = \\binom{9}{o+1} \\times (o+1)! \\times \\binom{4}{o} \\times o!\n",
    "$\n",
    "\n",
    "### Caso 2: Empieza con operador unario (\\( + \\) o \\( - \\))\n",
    "\n",
    "Para cada \\( o = 1, 2, 3, 4 \\):\n",
    "\n",
    "- Cantidad de dígitos usados: \\( d = o \\)  \n",
    "- Cantidad total operadores usados: \\( o \\) (incluyendo el unario inicial)  \n",
    "- Selección dígitos: $\\binom{9}{d}$\n",
    "- Permutación dígitos: $d!$\n",
    "- Selección de operadores restantes (sin el unario ya escogido): $\\binom{3}{o-1}$\n",
    "- Permutación operadores restantes: $(o-1)!$\n",
    "- El operador unario inicial puede ser elegido entre 2 opciones (\\( + \\) o \\( - \\))  \n",
    "- Total operadores: $ 2 \\times \\binom{3}{o-1} \\times (o-1)!$\n",
    "\n",
    "- Total expresiones para \\( o \\):\n",
    "\n",
    "$\n",
    "U_o = \\binom{9}{o} \\times d! \\times 2 \\times \\binom{3}{o-1} \\times (o-1)!\n",
    "$\n",
    "\n",
    "---\n",
    "\n",
    "### Resultados numéricos"
   ]
  },
  {
   "cell_type": "code",
   "execution_count": 7,
   "metadata": {},
   "outputs": [
    {
     "name": "stdout",
     "output_type": "stream",
     "text": [
      "Caso 1: Expresiones que empiezan con dígito\n",
      "\n",
      "o  d         C_o\n",
      "0  1           9\n",
      "1  2         288\n",
      "2  3       6,048\n",
      "3  4      72,576\n",
      "4  5     362,880\n",
      "\n",
      "Subtotal (caso dígito): 441,801\n",
      "\n",
      "Caso 2: Expresiones que empiezan con operador unario (+ o -)\n",
      "\n",
      "o  d         U_o\n",
      "1  1          18\n",
      "2  2         432\n",
      "3  3       6,048\n",
      "4  4      36,288\n",
      "\n",
      "Subtotal (caso operador unario): 42,786\n",
      "\n",
      "========================================\n",
      "Total de expresiones posibles: 484,587\n",
      "========================================\n"
     ]
    },
    {
     "data": {
      "text/plain": [
       "484587"
      ]
     },
     "execution_count": 7,
     "metadata": {},
     "output_type": "execute_result"
    }
   ],
   "source": [
    "from math import comb, factorial\n",
    "\n",
    "def caso_empieza_con_digito():\n",
    "    total = 0\n",
    "    print(\"Caso 1: Expresiones que empiezan con dígito\\n\")\n",
    "    print(f\"{'o':<2} {'d':<2} {'C_o':>10}\")\n",
    "    for o in range(0, 5):  # o: número de operadores\n",
    "        d = o + 1  # d: número de dígitos\n",
    "        c = comb(9, d) * factorial(d) * comb(4, o) * factorial(o)\n",
    "        total += c\n",
    "        print(f\"{o:<2} {d:<2} {c:>10,}\")\n",
    "    print(f\"\\nSubtotal (caso dígito): {total:,}\\n\")\n",
    "    return total\n",
    "\n",
    "def caso_empieza_con_operador_unario():\n",
    "    total = 0\n",
    "    print(\"Caso 2: Expresiones que empiezan con operador unario (+ o -)\\n\")\n",
    "    print(f\"{'o':<2} {'d':<2} {'U_o':>10}\")\n",
    "    for o in range(1, 5):  # o: número de operadores (incluye el unario)\n",
    "        d = o\n",
    "        if o - 1 <= 3:\n",
    "            u = comb(9, d) * factorial(d) * 2 * comb(3, o - 1) * factorial(o - 1)\n",
    "            total += u\n",
    "            print(f\"{o:<2} {d:<2} {u:>10,}\")\n",
    "    print(f\"\\nSubtotal (caso operador unario): {total:,}\\n\")\n",
    "    return total\n",
    "\n",
    "def total_expresiones():\n",
    "    total_digito = caso_empieza_con_digito()\n",
    "    total_op_unario = caso_empieza_con_operador_unario()\n",
    "    total = total_digito + total_op_unario\n",
    "    print(f\"{'='*40}\")\n",
    "    print(f\"Total de expresiones posibles: {total:,}\")\n",
    "    print(f\"{'='*40}\")\n",
    "    return total\n",
    "\n",
    "# Ejecutar\n",
    "total_expresiones()\n"
   ]
  },
  {
   "cell_type": "markdown",
   "metadata": {
    "id": "dzynfVJahHoY"
   },
   "source": [
    "Modelo para el espacio de soluciones\n",
    "\n",
    "**(*) ¿Cual es la estructura de datos que mejor se adapta al problema? Argumentalo.(Es posible que hayas elegido una al principio y veas la necesidad de cambiar, arguentalo)**\n",
    "\n",
    "Con el análisis previo para la resolución del ejercicio, se plantean las siguienstes observaciones:\n",
    "\n",
    "    - Se necesita generar permutaciones de símbolos alternando números y operadores.\n",
    "    - Las expresiones generadas serán evaluadas con eval()\n",
    "    - Se debe guardar los resultados únicos de los valores enteros.\n",
    "    - Es recomendable asociar cada resultado con la expresión que lo generó (útil para trazabilidad).\n",
    "\n",
    "Con el preábulo mencionado se establece la siguiente selección de estructuras de datos:\n",
    "\n",
    "Para almacenar los resultados enteros únicos se utiliza conjuntos (`set`) ya que evita los duplicados y  permite ver si todos los enteros entre min y max están cubiertos. Esta estructura no guarda trazabilidad de cómo se obtuvo el valor.\n",
    "\n",
    "Para mapear un resultado a la(s) expresión(es) que lo generan se puede utilizar diccionarios (`dict`) que serán útiles en la depuración explicación y visualización. Con esta estructura se debe tener cuidado en el manejo de la memoria ya que puede crecer demasiado si se guardan todas las expresiones.\n",
    "\n",
    "Para almacenar expresiones generadas temporalmente se puede utilizas listas (`list`), estas serán útiles en la generación de combinaciones, sin embargo, es ineficiente para búsqueda o unicidad.\n",
    "\n",
    "Para representar una expresión como secuencia inmutable de símbolos  se utilizan tuplas (`tuple`) que reulta ideal para generación en conjunto con itertools.permutations y validación de estructura.\n",
    "\n",
    "Para construir la expresiones a evaluar se utiliza String (`str`) que permite construir la cadena de caracteres necesarias para pasarlas a la función `eval()`\n",
    "\n"
   ]
  },
  {
   "cell_type": "code",
   "execution_count": null,
   "metadata": {
    "id": "38c-7-ejhJmA"
   },
   "outputs": [],
   "source": []
  },
  {
   "cell_type": "markdown",
   "metadata": {
    "id": "7Z9U2W7bi-XS"
   },
   "source": [
    "Según el modelo para el espacio de soluciones<br>\n",
    "### **(*)¿Cual es la función objetivo?**\n",
    "\n",
    "En el contexto del presente ejercicio, se plantea la generación y análisis de expresiones aritméticas construidas a partir de los dígitos del 1 al 9 (excluyendo el cero) y de los cuatro operadores fundamentales: suma (+), resta (–), multiplicación (*) y división (/). Estas expresiones deben cumplir con ciertas restricciones: no se permite la repetición de ningún símbolo (ni dígito ni operador), debe respetarse una estructura alternante entre operandos (números) y operadores, y la expresión puede iniciar tanto con un número como con un operador unario (+ o –). Además, se considera válida únicamente aquella expresión que, al ser evaluada, produce un número entero.\n",
    "\n",
    "Desde el punto de vista del modelado computacional, este planteamiento puede analizarse mediante un espacio de soluciones discreto y finito, en el cual cada punto representa una expresión válida bajo las reglas establecidas. En este marco, la función objetivo se define como aquella que evalúa el valor de una expresión, siempre que esta sea sintácticamente correcta y su resultado sea un número entero. Formalmente, se puede representar como:\n",
    "$\n",
    "f(expresioˊn)={eval(expresioˊn)si expresioˊn vaˊlida∧resultado∈Zdescartarsi hay error o el resultado no es entero\n",
    "f(expresioˊn)={eval(expresioˊn)descartar​si expresioˊn vaˊlida∧resultado∈Zsi hay error o el resultado no es entero​\n",
    "$\n",
    "\n",
    "Donde expresión representa una secuencia alternante de símbolos seleccionados sin repetición del conjunto de 9 dígitos y 4 operadores. La evaluación se realiza empleando mecanismos computacionales como la función eval() en Python, y está sujeta a restricciones que eviten errores semánticos (como divisiones por cero) y garanticen la validez de la sintaxis.\n",
    "\n",
    "### **(*)¿Es un problema de maximización o minimización?\n",
    "\n",
    "El enunciado propone como primer objetivo determinar los valores máximo y mínimo alcanzables por medio de expresiones válidas. Esto convierte el problema en uno de optimización dual, en el que se deben encontrar los extremos de la función objetivo dentro del dominio definido. A diferencia de problemas tradicionales que buscan un único óptimo, este caso requiere explorar completamente el espacio de soluciones para identificar el mínimo global y el máximo global.\n",
    "\n",
    "Además, el problema incorpora un segundo componente de análisis: determinar si todos los valores enteros comprendidos entre el mínimo y el máximo identificados pueden ser generados por alguna expresión válida. Este aspecto convierte el problema también en uno de cobertura del dominio, donde se busca verificar si el conjunto de resultados enteros generados forma un intervalo contiguo en ZZ.\n",
    "\n",
    "Para cerrar la idea, el problema propuesto puede clasificarse como una exploración combinatoria exhaustiva del espacio de expresiones bien formadas, con una función objetivo que evalúa su resultado bajo criterios de validez y entereza. Se persiguen dos metas principales: (1) la identificación de los valores extremos del conjunto de resultados posibles y (2) la verificación de la completitud del intervalo de valores enteros generados. Este tipo de problema requiere herramientas tanto de generación combinatoria como de evaluación eficiente y filtrado lógico para asegurar resultados correctos y computacionalmente manejables."
   ]
  },
  {
   "cell_type": "markdown",
   "metadata": {
    "id": "rlnTYgY1j6I2"
   },
   "source": [
    "### ** Diseña un algoritmo para resolver el problema por fuerza bruta**"
   ]
  },
  {
   "cell_type": "code",
   "execution_count": null,
   "metadata": {
    "id": "CJb5sQ0qkENy"
   },
   "outputs": [],
   "source": [
    "from itertools import permutations\n",
    "\n",
    "# Conjuntos de dígitos y operadores\n",
    "digitos = '123456789'\n",
    "operadores = '+-*/'\n",
    "\n",
    "# Almacenar resultados únicos y sus expresiones\n",
    "resultados = set()\n",
    "resultado_a_expresion = {}\n",
    "\n",
    "# Función para construir la expresión alternando símbolos\n",
    "def intercalar(digs, ops, empieza_con='digito'):\n",
    "    expr = []\n",
    "    if empieza_con == 'digito':\n",
    "        for d, o in zip(digs, ops + ('',)):  # Añadir operador si lo hay\n",
    "            expr.append(d)\n",
    "            if o:\n",
    "                expr.append(o)\n",
    "    else:  # empieza con operador unario (+ o -)\n",
    "        expr.append(ops[0])\n",
    "        for d, o in zip(digs, ops[1:] + ('',)):\n",
    "            expr.append(d)\n",
    "            if o:\n",
    "                expr.append(o)\n",
    "    return ''.join(expr)\n",
    "\n",
    "# ----------- Caso 1: Expresiones que empiezan con dígito -----------\n",
    "for o in range(0, 5):  # o = número de operadores (0 a 4)\n",
    "    d = o + 1          # d = número de dígitos\n",
    "    for digs in permutations(digitos, d):\n",
    "        for ops in permutations(operadores, o):\n",
    "            expr = intercalar(digs, ops, empieza_con='digito')\n",
    "            try:\n",
    "                val = eval(expr)\n",
    "                if isinstance(val, int) or val.is_integer():\n",
    "                    val = int(val)\n",
    "                    resultados.add(val)\n",
    "                    resultado_a_expresion.setdefault(val, []).append(expr)\n",
    "            except Exception:\n",
    "                continue\n",
    "\n",
    "# ----------- Caso 2: Expresiones que empiezan con operador unario -----------\n",
    "for o in range(1, 5):  # total operadores incluyendo el unario inicial\n",
    "    d = o  # número de dígitos\n",
    "    for digs in permutations(digitos, d):\n",
    "        for first_op in ['+', '-']:  # únicos unarios válidos\n",
    "            if o == 1:\n",
    "                ops = (first_op,)\n",
    "                expr = intercalar(digs, ops, empieza_con='operador')\n",
    "                try:\n",
    "                    val = eval(expr)\n",
    "                    if isinstance(val, int) or val.is_integer():\n",
    "                        val = int(val)\n",
    "                        resultados.add(val)\n",
    "                        resultado_a_expresion.setdefault(val, []).append(expr)\n",
    "                except Exception:\n",
    "                    continue\n",
    "            else:\n",
    "                for ops_rest in permutations('*/-', o - 1):\n",
    "                    ops = (first_op,) + ops_rest\n",
    "                    expr = intercalar(digs, ops, empieza_con='operador')\n",
    "                    try:\n",
    "                        val = eval(expr)\n",
    "                        if isinstance(val, int) or val.is_integer():\n",
    "                            val = int(val)\n",
    "                            resultados.add(val)\n",
    "                            resultado_a_expresion.setdefault(val, []).append(expr)\n",
    "                    except Exception:\n",
    "                        continue\n",
    "\n",
    "# ----------- Resultados finales -----------\n",
    "min_val = min(resultados)\n",
    "max_val = max(resultados)\n",
    "is_continuous = set(range(min_val, max_val + 1)).issubset(resultados)\n",
    "\n",
    "# Mostrar resumen\n",
    "print(f\"Valor mínimo: {min_val}\")\n",
    "print(f\"Valor máximo: {max_val}\")\n",
    "print(f\"Cantidad total de resultados enteros distintos: {len(resultados)}\")\n",
    "print(f\"¿Intervalo entero completo entre mínimo y máximo?: {is_continuous}\")\n"
   ]
  },
  {
   "cell_type": "markdown",
   "metadata": {
    "id": "tgrnsC2nkFa8"
   },
   "source": [
    "Calcula la complejidad del algoritmo por fuerza bruta"
   ]
  },
  {
   "cell_type": "markdown",
   "metadata": {
    "id": "9eUd3xwckP68"
   },
   "source": [
    "Respuesta"
   ]
  },
  {
   "cell_type": "code",
   "execution_count": null,
   "metadata": {
    "id": "rvZWwL-ckRST"
   },
   "outputs": [],
   "source": []
  },
  {
   "cell_type": "markdown",
   "metadata": {
    "id": "txbrmLmskReM"
   },
   "source": [
    "(*)Diseña un algoritmo que mejore la complejidad del algortimo por fuerza bruta. Argumenta porque crees que mejora el algoritmo por fuerza bruta"
   ]
  },
  {
   "cell_type": "markdown",
   "metadata": {
    "id": "hLrVwt5QkZPD"
   },
   "source": [
    "Respuesta"
   ]
  },
  {
   "cell_type": "code",
   "execution_count": null,
   "metadata": {
    "id": "m1eyM21Vkabg"
   },
   "outputs": [],
   "source": []
  },
  {
   "cell_type": "markdown",
   "metadata": {
    "id": "eGDB4K6uk1iN"
   },
   "source": [
    "(*)Calcula la complejidad del algoritmo"
   ]
  },
  {
   "cell_type": "markdown",
   "metadata": {
    "id": "NhpTh_BPk1ms"
   },
   "source": [
    "Respuesta"
   ]
  },
  {
   "cell_type": "code",
   "execution_count": null,
   "metadata": {
    "id": "nREzhkStlCq8"
   },
   "outputs": [],
   "source": []
  },
  {
   "cell_type": "markdown",
   "metadata": {
    "id": "3M6QjTsSkmYe"
   },
   "source": [
    "Según el problema (y tenga sentido), diseña un juego de datos de entrada aleatorios"
   ]
  },
  {
   "cell_type": "markdown",
   "metadata": {
    "id": "Jc3_OlyNkvjZ"
   },
   "source": [
    "Respuesta"
   ]
  },
  {
   "cell_type": "code",
   "execution_count": null,
   "metadata": {
    "id": "sJ-N2etjkyWc"
   },
   "outputs": [],
   "source": []
  },
  {
   "cell_type": "markdown",
   "metadata": {
    "id": "zy5ZROmjlGo1"
   },
   "source": [
    "Aplica el algoritmo al juego de datos generado"
   ]
  },
  {
   "cell_type": "markdown",
   "metadata": {
    "id": "_Cmj-PVylMsa"
   },
   "source": [
    "Respuesta"
   ]
  },
  {
   "cell_type": "code",
   "execution_count": null,
   "metadata": {
    "id": "Jkx8GeiYlUz1"
   },
   "outputs": [],
   "source": []
  },
  {
   "cell_type": "markdown",
   "metadata": {
    "id": "eTFWUJQrtGcv"
   },
   "source": [
    "Enumera las referencias que has utilizado(si ha sido necesario) para llevar a cabo el trabajo"
   ]
  },
  {
   "cell_type": "markdown",
   "metadata": {
    "id": "YKQ_mRBttWsP"
   },
   "source": [
    "Respuesta"
   ]
  },
  {
   "cell_type": "markdown",
   "metadata": {
    "id": "kAkDPUyRtYyH"
   },
   "source": [
    "Describe brevemente las lineas de como crees que es posible avanzar en el estudio del problema. Ten en cuenta incluso posibles variaciones del problema y/o variaciones al alza del tamaño"
   ]
  },
  {
   "cell_type": "markdown",
   "metadata": {
    "id": "IE0uZmo-tZu-"
   },
   "source": [
    "Respuesta"
   ]
  }
 ],
 "metadata": {
  "colab": {
   "provenance": []
  },
  "kernelspec": {
   "display_name": "Python 3 (ipykernel)",
   "language": "python",
   "name": "python3"
  },
  "language_info": {
   "codemirror_mode": {
    "name": "ipython",
    "version": 3
   },
   "file_extension": ".py",
   "mimetype": "text/x-python",
   "name": "python",
   "nbconvert_exporter": "python",
   "pygments_lexer": "ipython3",
   "version": "3.12.9"
  }
 },
 "nbformat": 4,
 "nbformat_minor": 4
}
